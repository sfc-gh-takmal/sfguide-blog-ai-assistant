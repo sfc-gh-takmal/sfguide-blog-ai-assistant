{
 "cells": [
  {
   "cell_type": "code",
   "execution_count": 1,
   "metadata": {},
   "outputs": [
    {
     "name": "stdout",
     "output_type": "stream",
     "text": [
      "Files in the directory: ['closing-the-loop-at-nissan-stadium.md', 'baltimore-ravens-and-coca-cola-consolidated-team-up-for-tree-planting-event.md', 'cleaning-up-nashvilles-waterways.md', 'coca-cola-consolidated-teams-up-with-indiana-university-to-prevent-unrecycled-plastic-waste.md', 'coca-cola-consolidated-commits-to-better-buildings-better-plants-challenge.md', 'closing-the-loop-at-the-coca-cola-600-2.md', 'coca-cola-consolidated-and-giant-food-partner-with-local-organizations-to-cleanup-oxon-run.md', 'rain-barrel-workshop-aims-to-increase-rainwater-collection-in-columbus.md', 'coca-cola-consolidated-implements-closed-loop-recycling-at-rbc-heritage.md', 'coca-cola-consolidated-and-the-washington-wizards-plant-25-trees.md', 'boy-scout-exemplifies-commitment-to-environment-on-america-recycles-day.md', 'coca-cola-consolidated-and-kroger-to-close-the-loop-at-the-2023-kentucky-derby.md']\n"
     ]
    }
   ],
   "source": [
    "import os\n",
    "\n",
    "data_dir = '/Users/tkmal/development/sfguide-blog-ai-assistant/.content/blogs'\n",
    "files = [f for f in os.listdir(data_dir) if os.path.isfile(os.path.join(data_dir, f))]\n",
    "print(\"Files in the directory:\", files)\n",
    "\n",
    "\n",
    "test_file = os.path.join(data_dir, 'closing-the-loop-at-nissan-stadium.md')\n",
    "with open(test_file, 'r') as file:\n",
    "    content = file.read()\n",
    "    print(content[:200])  # Print the first 200 characters of the file\n"
   ]
  },
  {
   "cell_type": "code",
   "execution_count": null,
   "metadata": {},
   "outputs": [],
   "source": []
  }
 ],
 "metadata": {
  "kernelspec": {
   "display_name": ".venv",
   "language": "python",
   "name": "python3"
  },
  "language_info": {
   "codemirror_mode": {
    "name": "ipython",
    "version": 3
   },
   "file_extension": ".py",
   "mimetype": "text/x-python",
   "name": "python",
   "nbconvert_exporter": "python",
   "pygments_lexer": "ipython3",
   "version": "3.10.0"
  }
 },
 "nbformat": 4,
 "nbformat_minor": 2
}
